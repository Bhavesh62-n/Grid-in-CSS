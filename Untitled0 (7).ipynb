{
  "nbformat": 4,
  "nbformat_minor": 0,
  "metadata": {
    "colab": {
      "provenance": []
    },
    "kernelspec": {
      "name": "python3",
      "display_name": "Python 3"
    },
    "language_info": {
      "name": "python"
    }
  },
  "cells": [
    {
      "cell_type": "code",
      "execution_count": null,
      "metadata": {
        "id": "KJngM7xd4htz"
      },
      "outputs": [],
      "source": [
        "1. Layout Structure (Grid)"
      ]
    },
    {
      "cell_type": "code",
      "source": [
        " HTML\n",
        "\n",
        "\n",
        "<!DOCTYPE html>\n",
        "<html lang=\"en\">\n",
        "<head>\n",
        "  <meta charset=\"UTF-8\">\n",
        "  <meta name=\"viewport\" content=\"width=device-width, initial-scale=1.0\">\n",
        "  <link rel=\"stylesheet\" href=\"css.css\">\n",
        "  <title>Document</title>\n",
        "</head>\n",
        "<body>\n",
        "  <div class=\"gallery\">\n",
        "\n",
        "    <img src=\"zz.jpeg\" class=\"item  item1\">\n",
        "    <img src=\"zz.jpeg\" class=\"item  item2\">\n",
        "    <img src=\"zz.jpeg\" class=\"item  item3\">\n",
        "    <img src=\"zz.jpeg\" class=\"item  item4\">\n",
        "    <img src=\"zz.jpeg\" class=\"item  item5\">\n",
        "    <img src=\"zz.jpeg\" class=\"item  item6\">\n",
        "\n",
        "  </div>\n",
        "\n",
        "</body>\n",
        "</html>"
      ],
      "metadata": {
        "id": "RMQOTmOu4t-O"
      },
      "execution_count": null,
      "outputs": []
    },
    {
      "cell_type": "code",
      "source": [
        "CSS\n",
        "\n",
        "\n",
        ".gallery {\n",
        "    display: grid;\n",
        "    grid-template-columns: repeat(3, 1fr);\n",
        "    grid-template-rows: repeat(4,150px);\n",
        "    gap: 10px;\n",
        "    width: 80%;\n",
        "    margin: auto;\n",
        "}\n",
        "\n",
        ".item {\n",
        "    width: 100%;\n",
        "    height: 100%;\n",
        "    object-fit: cover;\n",
        "}\n",
        "\n",
        ".item1 {\n",
        "    grid-column: 1/3;\n",
        "    grid-row: 1/2;\n",
        "}\n",
        "\n",
        ".item2 {\n",
        "    grid-column: 3/4;\n",
        "    grid-row: 1/2;\n",
        "}\n",
        ".item3{\n",
        "    grid-column: 1/2;\n",
        "    grid-row: 2/4;\n",
        "}\n",
        ".item4{\n",
        "    grid-column: 2 / 3;\n",
        "    grid-row: 2 /3;\n",
        "}\n",
        "\n",
        "\n",
        ".item5 {\n",
        "    grid-column: 3 / 4;\n",
        "    grid-row: 2 / 4;\n",
        "}\n",
        ".item6 {\n",
        "    grid-column: 2/3;\n",
        "    grid-row: 3/4;\n",
        "}\n"
      ],
      "metadata": {
        "id": "1QvD00Qs5LFP"
      },
      "execution_count": null,
      "outputs": []
    },
    {
      "cell_type": "markdown",
      "source": [
        "2. Write code to arrange containers with texts A, B, C, and D as shown in the below image."
      ],
      "metadata": {
        "id": "k1YAdMsh_hbB"
      }
    },
    {
      "cell_type": "code",
      "source": [
        "<!DOCTYPE html>\n",
        "<html lang=\"en\">\n",
        "<head>\n",
        "  <meta charset=\"UTF-8\">\n",
        "  <title>Task 2 Output</title>\n",
        "  <link rel=\"stylesheet\" href=\"css.css\">\n",
        "</head>\n",
        "<body>\n",
        "  <div class=\"grid\">\n",
        "    <div class=\"item a\">A</div>\n",
        "    <div class=\"item b\">B</div>\n",
        "    <div class=\"item c\">C</div>\n",
        "    <div class=\"item d\">D</div>\n",
        "  </div>\n",
        "</body>\n",
        "</html>\n",
        "\n",
        "\n"
      ],
      "metadata": {
        "id": "i4dZ8N4Z_io9"
      },
      "execution_count": null,
      "outputs": []
    },
    {
      "cell_type": "code",
      "source": [
        "\n",
        "\n",
        "CSS\n",
        "\n",
        "\n",
        "body {\n",
        "    display: flex;\n",
        "    justify-content: center;\n",
        "    align-items: center;\n",
        "    height: 100vh;\n",
        "    margin: 0;\n",
        "    background-color: #fff;\n",
        "  }\n",
        "\n",
        "  .grid {\n",
        "    display: grid;\n",
        "    grid-template-areas:\n",
        "      \"a b\"\n",
        "      \"c d\";\n",
        "    grid-template-columns: 100px 100px 100px;\n",
        "    grid-template-rows: 100px 100px;\n",
        "    gap: 10px;\n",
        "    padding: 10px;\n",
        "    border: 2px solid #555;\n",
        "    background-color: white;\n",
        "  }\n",
        "\n",
        "  .item {\n",
        "    background-color: pink;\n",
        "    display: flex;\n",
        "    justify-content: center;\n",
        "    align-items: center;\n",
        "    font-weight: bold;\n",
        "    font-size: 20px;\n",
        "    border: 1px solid #aaa;\n",
        "  }\n",
        "  .a{\n",
        "    grid-column: 1/3;\n",
        "\n",
        "  }\n",
        "  .b{\n",
        "\n",
        "    grid-column: 3/3;\n",
        "    grid-row:1/3 ;\n",
        "  }\n",
        "\n",
        ""
      ],
      "metadata": {
        "id": "lXF6YJ_W_myp"
      },
      "execution_count": null,
      "outputs": []
    },
    {
      "cell_type": "markdown",
      "source": [
        "Task 3:\n",
        "\n",
        "\n",
        "Problem Statement\n",
        "\n",
        "Explain the use of grid-auto-row and grid-auto-column using code examples."
      ],
      "metadata": {
        "id": "rECd8BCMEdWF"
      }
    },
    {
      "cell_type": "markdown",
      "source": [
        "1. grid-auto-rows\n",
        "\n",
        "This property defines the height of implicitly created rows in a CSS Grid container.\n",
        "\n",
        "If your grid adds more content than explicitly defined rows, grid-auto-rows sets the height for those extra rows."
      ],
      "metadata": {
        "id": "EcWCiwujFtOs"
      }
    },
    {
      "cell_type": "code",
      "source": [
        " <div class=\"grid-auto-rows-example\">\n",
        "  <div>Item 1</div>\n",
        "  <div>Item 2</div>\n",
        "  <div>Item 3</div> <!-- No explicit row for this -->\n",
        "</div>\n",
        "\n",
        "\n",
        "\n",
        "\n",
        " .grid-auto-rows-example {\n",
        "  display: grid;\n",
        "  grid-template-rows: 100px; /* Only one row defined */\n",
        "  grid-auto-rows: 50px; /* All extra rows will be 50px high */\n",
        "  gap: 10px;\n",
        "  border: 2px solid #000;\n",
        "}\n",
        ".grid-auto-rows-example div {\n",
        "  background-color: lightblue;\n",
        "}"
      ],
      "metadata": {
        "id": "YkiG3CHSL-zs"
      },
      "execution_count": null,
      "outputs": []
    },
    {
      "cell_type": "markdown",
      "source": [
        "2.  grid-auto-columns\n",
        "\n",
        "This property defines the width of implicitly created columns.\n",
        "\n",
        "Used when you don’t explicitly define enough columns but the content forces more."
      ],
      "metadata": {
        "id": "e5hQ2e17Lb5f"
      }
    },
    {
      "cell_type": "code",
      "source": [
        " <div class=\"grid-auto-columns-example\">\n",
        "  <div>1</div>\n",
        "  <div>2</div>\n",
        "  <div>3</div>\n",
        "</div>\n",
        "\n",
        "\n",
        "\n",
        "\n",
        ".grid-auto-columns-example {\n",
        "  display: grid;\n",
        "  grid-auto-flow: column; /* Items go left-to-right */\n",
        "  grid-auto-columns: 80px; /* Each new column is 80px wide */\n",
        "  border: 2px solid #000;\n",
        "}\n",
        ".grid-auto-columns-example div {\n",
        "  background-color: lightgreen;\n",
        "  border: 1px solid #888;\n",
        "  text-align: center;\n",
        "}"
      ],
      "metadata": {
        "id": "Aic43etuMFyd"
      },
      "execution_count": null,
      "outputs": []
    },
    {
      "cell_type": "markdown",
      "source": [
        "4. Problem Statement\n",
        "\n",
        "Write CSS to show numbers as shown in the figure, without altering the below html code."
      ],
      "metadata": {
        "id": "CoX5YIcTJGhu"
      }
    },
    {
      "cell_type": "code",
      "source": [
        "<!DOCTYPE html>\n",
        "<html lang=\"en\">\n",
        "<head>\n",
        "  <meta charset=\"UTF-8\">\n",
        "  <title>Task 2 Output</title>\n",
        "  <link rel=\"stylesheet\" href=\"css.css\">\n",
        "</head>\n",
        "<body>\n",
        "  <div class=\"container\">\n",
        "\n",
        "    <div class=\"box box1\">1</div>\n",
        "\n",
        "    <div class=\"box box2\">2</div>\n",
        "\n",
        "    <div class=\"box box3\">3</div>\n",
        "\n",
        "    <div class=\"box box4\">4</div>\n",
        "\n",
        "    <div class=\"box box5\">5</div>\n",
        "\n",
        "    <div class=\"box box6\">6</div>\n",
        "\n",
        "    <div class=\"box box7\">7</div>\n",
        "\n",
        "    <div class=\"box box8\">8</div>\n",
        "\n",
        "</div>\n",
        "</body>\n",
        "</html>"
      ],
      "metadata": {
        "id": "Dfh2nO-dJLI1"
      },
      "execution_count": null,
      "outputs": []
    },
    {
      "cell_type": "code",
      "source": [
        "\n",
        ".container{\n",
        "    display: grid;\n",
        "\n",
        "    grid-template-columns: repeat(6 , 60px);\n",
        "    grid-template-rows: repeat(2 , 60px);\n",
        "\n",
        "    gap: 10px;\n",
        "}\n",
        "\n",
        ".box{\n",
        "    background-color: lightgrey;\n",
        "    display: flex;\n",
        "    justify-content: center;\n",
        "    align-items: center;\n",
        "    font-weight: bold;\n",
        "    border-radius: 5px;\n",
        "}\n",
        "\n",
        ".box1 {\n",
        "    grid-column: 1 / 2;\n",
        "    grid-row: 2 / 3;\n",
        "    background-color: #333;\n",
        "    color: white;\n",
        "  }\n",
        "\n",
        "  .box2 {\n",
        "    grid-column: 2 / 3;\n",
        "    grid-row: 2 / 3;\n",
        "    background-color: #333;\n",
        "    color: white;\n",
        "  }\n",
        "\n",
        "  .box3 {\n",
        "    grid-column: 1 / 2;\n",
        "    grid-row: 1 / 2;\n",
        "    background-color: #333;\n",
        "  }\n",
        "\n",
        "  .box4 {\n",
        "    grid-column: 2 / 3;\n",
        "    grid-row: 1 / 2;\n",
        "  }\n",
        "\n",
        "  .box5 {\n",
        "    grid-column: 3 / 4;\n",
        "    grid-row: 1 / 2;\n",
        "    background-color: #333;\n",
        "  }\n",
        "\n",
        "  .box6 {\n",
        "    grid-column: 4 / 5;\n",
        "    grid-row: 1 / 2;\n",
        "  }\n",
        "\n",
        "  .box7 {\n",
        "    grid-column: 5 / 6;\n",
        "    grid-row: 1 / 2;\n",
        "    background-color: #333;\n",
        "    color: white;\n",
        "  }\n",
        "\n",
        "  .box8 {\n",
        "    grid-column: 6 / 7;\n",
        "    grid-row: 1 / 2;\n",
        "  }\n",
        ""
      ],
      "metadata": {
        "id": "nJO_1ZD7JPGj"
      },
      "execution_count": null,
      "outputs": []
    },
    {
      "cell_type": "markdown",
      "source": [
        "Task 5:\n",
        "\n",
        "\n",
        "Problem Statement\n",
        "\n",
        "Explain the difference between justify-items and justify-self using code examples\n",
        "\n",
        "1. justify-items\n",
        "\n",
        "It is a container-level property.\n",
        "\n",
        "It defines the default horizontal alignment for all child items in a grid or flex container.\n",
        "\n",
        "\n",
        "Example:"
      ],
      "metadata": {
        "id": "Idy9GrzALlYY"
      }
    },
    {
      "cell_type": "code",
      "source": [
        "<style>\n",
        ".container {\n",
        "  display: grid;\n",
        "  grid-template-columns: repeat(2, 100px);\n",
        "  justify-items: center; /* Aligns all items horizontally to center */\n",
        "  gap: 10px;\n",
        "  border: 1px solid black;\n",
        "}\n",
        ".item {\n",
        "  background-color: lightblue;\n",
        "  padding: 10px;\n",
        "}\n",
        "</style>\n",
        "\n",
        "<div class=\"container\">\n",
        "  <div class=\"item\">Item 1</div>\n",
        "  <div class=\"item\">Item 2</div>\n",
        "</div>\n"
      ],
      "metadata": {
        "id": "Edlp606qLr9L"
      },
      "execution_count": null,
      "outputs": []
    },
    {
      "cell_type": "markdown",
      "source": [
        "2. justify-self\n",
        "\n",
        "It is an item-level property.\n",
        "\n",
        "It defines the horizontal alignment of an individual item inside its grid area.\n",
        "\n",
        "\n",
        "Example:"
      ],
      "metadata": {
        "id": "CywPhSIQLwoz"
      }
    },
    {
      "cell_type": "code",
      "source": [
        "<style>\n",
        ".container {\n",
        "  display: grid;\n",
        "  grid-template-columns: repeat(2, 100px);\n",
        "  gap: 10px;\n",
        "  border: 1px solid black;\n",
        "}\n",
        ".item1 {\n",
        "  background-color: lightgreen;\n",
        "  justify-self: start; /* Aligns to the left */\n",
        "}\n",
        ".item2 {\n",
        "  background-color: lightcoral;\n",
        "  justify-self: end; /* Aligns to the right */\n",
        "}\n",
        "</style>\n",
        "\n",
        "<div class=\"container\">\n",
        "  <div class=\"item1\">Item 1</div>\n",
        "  <div class=\"item2\">Item 2</div>\n",
        "</div>\n",
        "\n"
      ],
      "metadata": {
        "id": "Dp_eZvu9L0d-"
      },
      "execution_count": null,
      "outputs": []
    }
  ]
}